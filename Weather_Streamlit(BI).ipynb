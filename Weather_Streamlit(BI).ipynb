{
  "cells": [
    {
      "cell_type": "code",
      "execution_count": 1,
      "metadata": {
        "colab": {
          "base_uri": "https://localhost:8080/"
        },
        "id": "QQgsFlaMxGIi",
        "outputId": "a03a2dc0-ec3f-400e-a3c0-55dba6927291"
      },
      "outputs": [
        {
          "output_type": "stream",
          "name": "stdout",
          "text": [
            "\u001b[2K     \u001b[90m━━━━━━━━━━━━━━━━━━━━━━━━━━━━━━━━━━━━━━━━\u001b[0m \u001b[32m8.4/8.4 MB\u001b[0m \u001b[31m26.5 MB/s\u001b[0m eta \u001b[36m0:00:00\u001b[0m\n",
            "\u001b[2K     \u001b[90m━━━━━━━━━━━━━━━━━━━━━━━━━━━━━━━━━━━━━━━━\u001b[0m \u001b[32m195.4/195.4 kB\u001b[0m \u001b[31m16.8 MB/s\u001b[0m eta \u001b[36m0:00:00\u001b[0m\n",
            "\u001b[2K     \u001b[90m━━━━━━━━━━━━━━━━━━━━━━━━━━━━━━━━━━━━━━━━\u001b[0m \u001b[32m4.8/4.8 MB\u001b[0m \u001b[31m43.7 MB/s\u001b[0m eta \u001b[36m0:00:00\u001b[0m\n",
            "\u001b[2K     \u001b[90m━━━━━━━━━━━━━━━━━━━━━━━━━━━━━━━━━━━━━━━━\u001b[0m \u001b[32m83.0/83.0 kB\u001b[0m \u001b[31m8.9 MB/s\u001b[0m eta \u001b[36m0:00:00\u001b[0m\n",
            "\u001b[2K     \u001b[90m━━━━━━━━━━━━━━━━━━━━━━━━━━━━━━━━━━━━━━━━\u001b[0m \u001b[32m62.7/62.7 kB\u001b[0m \u001b[31m6.8 MB/s\u001b[0m eta \u001b[36m0:00:00\u001b[0m\n",
            "\u001b[?25h"
          ]
        }
      ],
      "source": [
        "!pip install streamlit -q"
      ]
    },
    {
      "cell_type": "code",
      "execution_count": 2,
      "metadata": {
        "colab": {
          "base_uri": "https://localhost:8080/"
        },
        "id": "sezfl_Vkxr6n",
        "outputId": "2ff114cc-bd79-41b6-99d4-4c91fc625a17"
      },
      "outputs": [
        {
          "output_type": "stream",
          "name": "stdout",
          "text": [
            "35.222.235.57\n"
          ]
        }
      ],
      "source": [
        "!wget -q -O - ipv4.icanhazip.com"
      ]
    },
    {
      "cell_type": "code",
      "execution_count": null,
      "metadata": {
        "colab": {
          "background_save": true,
          "base_uri": "https://localhost:8080/"
        },
        "id": "BTlZGyq-xuPg",
        "outputId": "7e8d45c8-f5c3-4b9d-8298-2f0160debe4d"
      },
      "outputs": [
        {
          "output_type": "stream",
          "name": "stdout",
          "text": [
            "\n",
            "Collecting usage statistics. To deactivate, set browser.gatherUsageStats to False.\n",
            "\u001b[0m\n",
            "\u001b[0m\n",
            "\u001b[34m\u001b[1m  You can now view your Streamlit app in your browser.\u001b[0m\n",
            "\u001b[0m\n",
            "\u001b[34m  Network URL: \u001b[0m\u001b[1mhttp://172.28.0.12:8501\u001b[0m\n",
            "\u001b[34m  External URL: \u001b[0m\u001b[1mhttp://35.222.235.57:8501\u001b[0m\n",
            "\u001b[0m\n",
            "\u001b[K\u001b[?25hnpx: installed 22 in 7.543s\n",
            "your url is: https://cute-clubs-tickle.loca.lt\n",
            "RUNNING THE L-BFGS-B CODE\n",
            "\n",
            "           * * *\n",
            "\n",
            "Machine precision = 2.220D-16\n",
            " N =            5     M =           10\n",
            " This problem is unconstrained.\n",
            "\n",
            "At X0         0 variables are exactly at the bounds\n",
            "\n",
            "At iterate    0    f=  2.27098D+00    |proj g|=  4.07079D-01\n",
            "\n",
            "At iterate    5    f=  2.03739D+00    |proj g|=  5.66896D-02\n",
            "\n",
            "At iterate   10    f=  2.01814D+00    |proj g|=  1.35299D-03\n",
            "\n",
            "At iterate   15    f=  2.01804D+00    |proj g|=  1.59388D-03\n",
            "\n",
            "At iterate   20    f=  2.01795D+00    |proj g|=  3.77625D-04\n",
            "\n",
            "At iterate   25    f=  2.01795D+00    |proj g|=  3.16345D-04\n",
            "\n",
            "At iterate   30    f=  2.01792D+00    |proj g|=  4.05997D-03\n",
            "\n",
            "At iterate   35    f=  2.01782D+00    |proj g|=  1.26279D-04\n",
            "\n",
            "At iterate   40    f=  2.01777D+00    |proj g|=  1.68775D-04\n",
            "\n",
            "At iterate   45    f=  2.01773D+00    |proj g|=  3.39014D-04\n",
            "\n",
            "           * * *\n",
            "\n",
            "Tit   = total number of iterations\n",
            "Tnf   = total number of function evaluations\n",
            "Tnint = total number of segments explored during Cauchy searches\n",
            "Skip  = number of BFGS updates skipped\n",
            "Nact  = number of active bounds at final generalized Cauchy point\n",
            "Projg = norm of the final projected gradient\n",
            "F     = final function value\n",
            "\n",
            "           * * *\n",
            "\n",
            "   N    Tit     Tnf  Tnint  Skip  Nact     Projg        F\n",
            "    5     49     64      1     0     0   1.360D-04   2.018D+00\n",
            "  F =   2.0177316519090720     \n",
            "\n",
            "CONVERGENCE: REL_REDUCTION_OF_F_<=_FACTR*EPSMCH             \n",
            "/usr/local/lib/python3.10/dist-packages/statsmodels/tsa/statespace/representation.py:374: FutureWarning:\n",
            "\n",
            "Unknown keyword arguments: dict_keys(['alpha']).Passing unknown keyword arguments will raise a TypeError beginning in version 0.15.\n",
            "\n",
            "2024-03-07 05:36:47.518 Uncaught app exception\n",
            "Traceback (most recent call last):\n",
            "  File \"/usr/local/lib/python3.10/dist-packages/streamlit/runtime/scriptrunner/script_runner.py\", line 535, in _run_script\n",
            "    exec(code, module.__dict__)\n",
            "  File \"/content/weather_analysis.py\", line 330, in <module>\n",
            "    st.plotly_chart(fig_sarimax, use_container_width=True)\n",
            "NameError: name 'fig_sarimax' is not defined\n",
            "RUNNING THE L-BFGS-B CODE\n",
            "\n",
            "           * * *\n",
            "\n",
            "Machine precision = 2.220D-16\n",
            " N =            5     M =           10\n",
            " This problem is unconstrained.\n",
            "\n",
            "At X0         0 variables are exactly at the bounds\n",
            "\n",
            "At iterate    0    f=  2.27098D+00    |proj g|=  4.07079D-01\n",
            "\n",
            "At iterate    5    f=  2.03739D+00    |proj g|=  5.66896D-02\n",
            "\n",
            "At iterate   10    f=  2.01814D+00    |proj g|=  1.35299D-03\n",
            "\n",
            "At iterate   15    f=  2.01804D+00    |proj g|=  1.59388D-03\n",
            "\n",
            "At iterate   20    f=  2.01795D+00    |proj g|=  3.77625D-04\n",
            "\n",
            "At iterate   25    f=  2.01795D+00    |proj g|=  3.16345D-04\n",
            "\n",
            "At iterate   30    f=  2.01792D+00    |proj g|=  4.05997D-03\n",
            "\n",
            "At iterate   35    f=  2.01782D+00    |proj g|=  1.26279D-04\n",
            "\n",
            "At iterate   40    f=  2.01777D+00    |proj g|=  1.68775D-04\n",
            "\n",
            "At iterate   45    f=  2.01773D+00    |proj g|=  3.39014D-04\n",
            "\n",
            "           * * *\n",
            "\n",
            "Tit   = total number of iterations\n",
            "Tnf   = total number of function evaluations\n",
            "Tnint = total number of segments explored during Cauchy searches\n",
            "Skip  = number of BFGS updates skipped\n",
            "Nact  = number of active bounds at final generalized Cauchy point\n",
            "Projg = norm of the final projected gradient\n",
            "F     = final function value\n",
            "\n",
            "           * * *\n",
            "\n",
            "   N    Tit     Tnf  Tnint  Skip  Nact     Projg        F\n",
            "    5     49     64      1     0     0   1.360D-04   2.018D+00\n",
            "  F =   2.0177316519090720     \n",
            "\n",
            "CONVERGENCE: REL_REDUCTION_OF_F_<=_FACTR*EPSMCH             \n",
            "/usr/local/lib/python3.10/dist-packages/statsmodels/tsa/statespace/representation.py:374: FutureWarning:\n",
            "\n",
            "Unknown keyword arguments: dict_keys(['alpha']).Passing unknown keyword arguments will raise a TypeError beginning in version 0.15.\n",
            "\n"
          ]
        }
      ],
      "source": [
        "!streamlit run weather_analysis.py & npx localtunnel --port 8501"
      ]
    }
  ],
  "metadata": {
    "colab": {
      "provenance": []
    },
    "kernelspec": {
      "display_name": "Python 3",
      "name": "python3"
    },
    "language_info": {
      "name": "python"
    }
  },
  "nbformat": 4,
  "nbformat_minor": 0
}